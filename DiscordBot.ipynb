{
 "cells": [
  {
   "cell_type": "markdown",
   "metadata": {},
   "source": [
    "### Dectorator "
   ]
  },
  {
   "cell_type": "code",
   "execution_count": null,
   "metadata": {},
   "outputs": [],
   "source": [
    "def logged(func): \n",
    "    def with_logging(*args): \n",
    "        L = list(args)\n",
    "        return func(sum(L))\n",
    "    return with_logging\n",
    " \n",
    "def f(x):\n",
    "    print(x**2)\n",
    "\n",
    "result = logged(f)(1,2,3,4)"
   ]
  },
  {
   "cell_type": "code",
   "execution_count": null,
   "metadata": {},
   "outputs": [],
   "source": [
    "def logged(func): \n",
    "    def with_logging(*args): \n",
    "        L = list(args)\n",
    "        return func(sum(L))\n",
    "    return with_logging\n",
    " \n",
    "@logged\n",
    "def f(x):\n",
    "    print(x**2)\n",
    "\n",
    "result = f(1,2,3,4)"
   ]
  },
  {
   "cell_type": "markdown",
   "metadata": {},
   "source": [
    "### Asyncio "
   ]
  },
  {
   "cell_type": "code",
   "execution_count": 8,
   "metadata": {},
   "outputs": [
    {
     "name": "stdout",
     "output_type": "stream",
     "text": [
      "One\n",
      "Two\n",
      "One\n",
      "Two\n",
      "One\n",
      "Two\n",
      "executed in  3.02 seconds.\n"
     ]
    }
   ],
   "source": [
    "import time\n",
    "\n",
    "def count():\n",
    "    print(\"One\")\n",
    "    time.sleep(1)\n",
    "    print(\"Two\")\n",
    "\n",
    "def task():\n",
    "    for i in range(3):\n",
    "        count()\n",
    "\n",
    "start = time.time()\n",
    "task()\n",
    "print(f\"executed in {time.time() - start : 0.2f} seconds.\")"
   ]
  },
  {
   "cell_type": "code",
   "execution_count": null,
   "metadata": {},
   "outputs": [],
   "source": [
    "## DON'T Test it on Jupyter Notebook !!!!\n",
    "\n",
    "import asyncio\n",
    "import time\n",
    "\n",
    "async def count():\n",
    "    print(\"One\")\n",
    "    await asyncio.sleep(1)\n",
    "    print(\"Two\")\n",
    "\n",
    "async def task():\n",
    "    await asyncio.gather(count(), count(), count())\n",
    "\n",
    "start = time.time()\n",
    "asyncio.run(task())\n",
    "print(f\"executed in {time.time() - start:0.2f} seconds.\")"
   ]
  },
  {
   "cell_type": "markdown",
   "metadata": {},
   "source": [
    "### Web Crawling "
   ]
  },
  {
   "cell_type": "code",
   "execution_count": 10,
   "metadata": {},
   "outputs": [
    {
     "name": "stdout",
     "output_type": "stream",
     "text": [
      "        資芽，發生了會如何，不發生又會如何。本人也是經過了深思熟慮，在每個日日夜夜思考這個問題。每個人的一生中，幾乎可說碰到資芽這件事，是必然會發生的。話雖如此，我們卻也不能夠這麼篤定。現在，正視資芽的問題，是非常非常重要的。因為，若沒有資芽的存在，那麼後果可想而知。\n"
     ]
    }
   ],
   "source": [
    "import requests\n",
    "import json\n",
    "from bs4 import BeautifulSoup\n",
    "\n",
    "url = \"https://api.howtobullshit.me/bullshit\"\n",
    "topic = \"資芽\"\n",
    "length = 100\n",
    "\n",
    "post_params = {'Topic': topic, 'MinLen': length}\n",
    "post = json.dumps(post_params)\n",
    "response = requests.post(url, data = post)\n",
    "\n",
    "soup = BeautifulSoup(response.text, \"html.parser\")\n",
    "print(str(soup))"
   ]
  },
  {
   "cell_type": "markdown",
   "metadata": {},
   "source": [
    "### yt-dlp "
   ]
  },
  {
   "cell_type": "code",
   "execution_count": 12,
   "metadata": {},
   "outputs": [
    {
     "name": "stdout",
     "output_type": "stream",
     "text": [
      "[youtube] dQw4w9WgXcQ: Downloading webpage\n",
      "[youtube] dQw4w9WgXcQ: Downloading android player API JSON\n",
      "[info] dQw4w9WgXcQ: Downloading 1 format(s): 251\n",
      "[download] Destination: Rick Astley - Never Gonna Give You Up (Official Music Video) [dQw4w9WgXcQ].webm\n",
      "[download] 100% of 3.28MiB in 00:00                  \n",
      "[ExtractAudio] Destination: Rick Astley - Never Gonna Give You Up (Official Music Video) [dQw4w9WgXcQ].mp3\n",
      "Deleting original file Rick Astley - Never Gonna Give You Up (Official Music Video) [dQw4w9WgXcQ].webm (pass -k to keep)\n"
     ]
    },
    {
     "data": {
      "text/plain": [
       "0"
      ]
     },
     "execution_count": 12,
     "metadata": {},
     "output_type": "execute_result"
    }
   ],
   "source": [
    "import os\n",
    "\n",
    "url = \"https://www.youtube.com/watch?v=dQw4w9WgXcQ\"\n",
    "os.system(f\"yt-dlp --extract-audio --audio-format mp3 --audio-quality 0 --ffmpeg-location ./ffmpeg {url}\")"
   ]
  },
  {
   "cell_type": "markdown",
   "metadata": {},
   "source": [
    "##### Practice Answer "
   ]
  },
  {
   "cell_type": "code",
   "execution_count": null,
   "metadata": {},
   "outputs": [],
   "source": [
    "import datetime\n",
    "from datetime import timezone, timedelta\n",
    "\n",
    "current_time = timezone(timedelta(hours = 8)) \n",
    "print(datetime.datetime.now(current_time).strftime(\"%H%M\"))"
   ]
  }
 ],
 "metadata": {
  "interpreter": {
   "hash": "5de96e7bd8395409e1c7b7832f2239ec7bd9680ead0db1c40194c8a312bf7c20"
  },
  "kernelspec": {
   "display_name": "Python 3.9.7 ('base')",
   "language": "python",
   "name": "python3"
  },
  "language_info": {
   "codemirror_mode": {
    "name": "ipython",
    "version": 3
   },
   "file_extension": ".py",
   "mimetype": "text/x-python",
   "name": "python",
   "nbconvert_exporter": "python",
   "pygments_lexer": "ipython3",
   "version": "3.9.7"
  }
 },
 "nbformat": 4,
 "nbformat_minor": 2
}
